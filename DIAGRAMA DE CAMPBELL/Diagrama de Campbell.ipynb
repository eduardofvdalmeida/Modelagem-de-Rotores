{
 "cells": [
  {
   "cell_type": "code",
   "execution_count": 1,
   "metadata": {
    "collapsed": true
   },
   "outputs": [],
   "source": [
    "import scipy as sp\n",
    "import scipy.linalg as la\n",
    "import matplotlib.pyplot as plt\n",
    "from ipywidgets import interact\n",
    "%matplotlib inline\n",
    "sp.set_printoptions(precision=3, linewidth=300)"
   ]
  },
  {
   "cell_type": "markdown",
   "metadata": {},
   "source": [
    "# Cálculo das frequências naturais"
   ]
  },
  {
   "cell_type": "markdown",
   "metadata": {},
   "source": [
    "Consideremos as equações:\n",
    "\\begin{equation}\n",
    "I_d\\ddot{\\alpha} + I_p \\Omega \\dot{\\beta} + k \\alpha = 0\\\\\n",
    "I_d\\ddot{\\beta} - I_p \\Omega \\dot{\\alpha} + k \\beta = 0\n",
    "\\end{equation}"
   ]
  },
  {
   "cell_type": "markdown",
   "metadata": {},
   "source": [
    "Para encontrarmos as frequências naturais do sistema utilizaremos a formulação no espaço dos estados."
   ]
  },
  {
   "cell_type": "markdown",
   "metadata": {},
   "source": [
    "\\begin{equation}\n",
    "\\dot{\\alpha_1} = \\alpha_2 \\\\\n",
    "\\dot{\\beta_1} = \\beta_2 \\\\\n",
    "\\dot{\\alpha_2} = -I_d^{-1}(I_p \\Omega \\beta_2 + k\\alpha_1) \\\\\n",
    "\\dot{\\beta_2} = -I_d^{-1}(-I_p \\Omega \\alpha_2 + k\\beta_1)\n",
    "\\end{equation}"
   ]
  },
  {
   "cell_type": "markdown",
   "metadata": {},
   "source": [
    "Considerando o vetor de estado $[\\alpha_1 \\ \\beta_1 \\ \\alpha_2 \\ \\beta_2]^T$, podemos escrever a equação $\\dot{\\bf x}(t) = A{\\bf x}(t)$\n",
    "Onde:\n",
    "\\begin{equation}\n",
    "{\\bf A} = \n",
    "\\left[ \\matrix{\n",
    "0 & I \\\\\n",
    "-I_d^{-1}K & -I_d^{-1}\\Omega G  \\\\\n",
    "} \\right] \\\\\n",
    "\\end{equation}"
   ]
  },
  {
   "cell_type": "markdown",
   "metadata": {},
   "source": [
    "\\begin{equation}\n",
    "{\\bf I_d} = \n",
    "\\left[ \\matrix{\n",
    " I_d & 0 \\\\\n",
    "0 & I_d\\\\\n",
    "} \\right] \\\\\n",
    "{\\bf K} = \n",
    "\\left[ \\matrix{\n",
    " k & 0 \\\\\n",
    "0 & k\\\\\n",
    "} \\right] \\\\\n",
    "{\\bf G} = \n",
    "\\left[ \\matrix{\n",
    " 0 & I_p \\\\\n",
    "-I_p & 0\\\\\n",
    "} \\right] \\\\\n",
    "\\end{equation}"
   ]
  },
  {
   "cell_type": "markdown",
   "metadata": {},
   "source": [
    "A solução tem a forma exponencial ${\\bf x}(t) = e^{\\lambda t} {\\bf x}$. \n",
    "\n",
    "Substituindo em $\\dot{\\bf x}(t) = A{\\bf x}(t)$ obtemos: $A{\\bf x} = \\lambda{\\bf x}$ que é o problema de autovalor-autovetor."
   ]
  },
  {
   "cell_type": "markdown",
   "metadata": {},
   "source": [
    "Iremos agora construir a matriz A considerando as propriedades abaixo:"
   ]
  },
  {
   "cell_type": "code",
   "execution_count": 8,
   "metadata": {
    "collapsed": false
   },
   "outputs": [],
   "source": [
    "Id = 7.06\n",
    "Ip = 13.69\n",
    "k = 2.97*10e5\n",
    "w = 100"
   ]
  },
  {
   "cell_type": "code",
   "execution_count": 9,
   "metadata": {
    "collapsed": false
   },
   "outputs": [],
   "source": [
    "Id0 = sp.array([[Id, 0],\n",
    "                [0, Id]])\n",
    "K = sp.array([[k, 0],\n",
    "              [0, k]])\n",
    "G = sp.array([[0, Ip],\n",
    "              [-Ip, 0]])"
   ]
  },
  {
   "cell_type": "code",
   "execution_count": 10,
   "metadata": {
    "collapsed": true
   },
   "outputs": [],
   "source": [
    "I = sp.eye(len(Id0))\n",
    "Z = sp.zeros_like(Id0)\n",
    "Idinv = la.inv(Id0)"
   ]
  },
  {
   "cell_type": "markdown",
   "metadata": {},
   "source": [
    "Montar a matriz A utilizando hstack e vstack:"
   ]
  },
  {
   "cell_type": "code",
   "execution_count": 11,
   "metadata": {
    "collapsed": false
   },
   "outputs": [
    {
     "data": {
      "text/plain": [
       "array([[  0.000e+00,   0.000e+00,   1.000e+00,   0.000e+00],\n",
       "       [  0.000e+00,   0.000e+00,   0.000e+00,   1.000e+00],\n",
       "       [ -4.207e+05,   0.000e+00,   0.000e+00,  -1.939e+02],\n",
       "       [  0.000e+00,  -4.207e+05,   1.939e+02,   0.000e+00]])"
      ]
     },
     "execution_count": 11,
     "metadata": {},
     "output_type": "execute_result"
    }
   ],
   "source": [
    "A = sp.vstack([sp.hstack([         Z,            I]),\n",
    "               sp.hstack([-Idinv @ K, -Idinv @ G*w])])\n",
    "A"
   ]
  },
  {
   "cell_type": "markdown",
   "metadata": {},
   "source": [
    "Podemos calcular os autovalores e autovetores com a função scipy.linalg.eig()"
   ]
  },
  {
   "cell_type": "markdown",
   "metadata": {},
   "source": [
    "```\n",
    "la.eig(a, b=None, left=False, right=True, overwrite_a=False, overwrite_b=False, check_finite=True)\n",
    "Docstring:\n",
    "Solve an ordinary or generalized eigenvalue problem of a square matrix.\n",
    "\n",
    "Find eigenvalues w and right or left eigenvectors of a general matrix::\n",
    "\n",
    "Parameters\n",
    "----------\n",
    "a : (M, M) array_like\n",
    "    A complex or real matrix whose eigenvalues and eigenvectors\n",
    "    \n",
    "Returns\n",
    "-------    \n",
    "w : (M,) double or complex ndarray\n",
    "    The eigenvalues, each repeated according to its multiplicity.\n",
    "vl : (M, M) double or complex ndarray\n",
    "    The normalized left eigenvector corresponding to the eigenvalue\n",
    "    ``w[i]`` is the column vl[:,i]. Only returned if ``left=True``.\n",
    "vr : (M, M) double or complex ndarray\n",
    "    The normalized right eigenvector corresponding to the eigenvalue\n",
    "    ``w[i]`` is the column ``vr[:,i]``.  Only returned if ``right=True``.\n",
    "```"
   ]
  },
  {
   "cell_type": "code",
   "execution_count": 12,
   "metadata": {
    "collapsed": false
   },
   "outputs": [
    {
     "data": {
      "text/plain": [
       "(array([ 0.+752.76j,  0.-752.76j,  0.+558.85j,  0.-558.85j]),\n",
       " array([[ 0.001+0.j   ,  0.001-0.j   ,  0.000-0.001j,  0.000+0.001j],\n",
       "        [ 0.000-0.001j,  0.000+0.001j,  0.001+0.j   ,  0.001-0.j   ],\n",
       "        [ 0.000+0.707j,  0.000-0.707j,  0.707+0.j   ,  0.707-0.j   ],\n",
       "        [ 0.707+0.j   ,  0.707-0.j   ,  0.000+0.707j,  0.000-0.707j]]))"
      ]
     },
     "execution_count": 12,
     "metadata": {},
     "output_type": "execute_result"
    }
   ],
   "source": [
    "la.eig(A)"
   ]
  },
  {
   "cell_type": "markdown",
   "metadata": {},
   "source": [
    "Iremos agora calcular as frequências naturais para um range de velocidades."
   ]
  },
  {
   "cell_type": "code",
   "execution_count": 14,
   "metadata": {
    "collapsed": true
   },
   "outputs": [],
   "source": [
    "omega = sp.linspace(0, 100, 50)"
   ]
  },
  {
   "cell_type": "code",
   "execution_count": 15,
   "metadata": {
    "collapsed": false
   },
   "outputs": [],
   "source": [
    "fw = []\n",
    "bw = []\n",
    "for w in omega:\n",
    "    A = sp.vstack([sp.hstack([         Z,            I]),\n",
    "                   sp.hstack([-Idinv @ K, -Idinv @ G*w])])\n",
    "    evalues, evects = la.eig(A)\n",
    "    evalues = sp.sort(evalues.imag)\n",
    "    wn = (sp.sqrt(evalues)).real\n",
    "    bw.append(wn[2])\n",
    "    fw.append(wn[3])"
   ]
  },
  {
   "cell_type": "code",
   "execution_count": 16,
   "metadata": {
    "collapsed": false
   },
   "outputs": [
    {
     "data": {
      "text/plain": [
       "[<matplotlib.lines.Line2D at 0x7ff30f0>]"
      ]
     },
     "execution_count": 16,
     "metadata": {},
     "output_type": "execute_result"
    },
    {
     "data": {
      "image/png": "[encoded data removed]",
      "text/plain": [
       "<matplotlib.figure.Figure at 0x7c94550>"
      ]
     },
     "metadata": {},
     "output_type": "display_data"
    }
   ],
   "source": [
    "plt.plot(omega, bw)\n",
    "plt.plot(omega, fw)\n",
    "plt.plot(omega, omega)"
   ]
  },
  {
   "cell_type": "markdown",
   "metadata": {},
   "source": [
    "Podemos criar uma função dependente de Ip para avaliarmos a influência desse paramêtro no diagrama de Campbell."
   ]
  },
  {
   "cell_type": "code",
   "execution_count": 17,
   "metadata": {
    "collapsed": true
   },
   "outputs": [],
   "source": [
    "def campbell(Ip):\n",
    "    Id = 7.06\n",
    "    k = 2.97*10e5\n",
    "    omega = (0, 100, 100)\n",
    "    Id0 = sp.array([[Id, 0],\n",
    "                    [0, Id]])\n",
    "    K = sp.array([[k, 0],\n",
    "                  [0, k]])\n",
    "    G = sp.array([[0, Ip],\n",
    "                  [-Ip, 0]])\n",
    "    \n",
    "    I = sp.eye(len(Id0))\n",
    "    Z = sp.zeros_like(Id0)\n",
    "    Idinv = la.inv(Id0)\n",
    "    \n",
    "    fw = []\n",
    "    bw = []\n",
    "    for w in omega:\n",
    "        A = sp.vstack([sp.hstack([         Z,            I]),\n",
    "                       sp.hstack([-Idinv @ K, -Idinv @ G*w])])\n",
    "        evalues, evects = la.eig(A)\n",
    "        evalues = sp.sort(evalues.imag)\n",
    "        wn = (sp.sqrt(evalues)).real\n",
    "        bw.append(wn[2])\n",
    "        fw.append(wn[3])\n",
    "    plt.plot(omega, bw)\n",
    "    plt.plot(omega, fw)\n",
    "    plt.plot(omega, omega)\n",
    "    "
   ]
  },
  {
   "cell_type": "code",
   "execution_count": 18,
   "metadata": {
    "collapsed": false
   },
   "outputs": [
    {
     "data": {
      "image/png": "[encoded data removed]",
      "text/plain": [
       "<matplotlib.figure.Figure at 0x93cd748>"
      ]
     },
     "metadata": {},
     "output_type": "display_data"
    }
   ],
   "source": [
    "interact(campbell, Ip=(10, 100, 10))"
   ]
  },
  {
   "cell_type": "code",
   "execution_count": null,
   "metadata": {
    "collapsed": true
   },
   "outputs": [],
   "source": []
  },
  {
   "cell_type": "code",
   "execution_count": null,
   "metadata": {
    "collapsed": true
   },
   "outputs": [],
   "source": []
  },
  {
   "cell_type": "code",
   "execution_count": null,
   "metadata": {
    "collapsed": true
   },
   "outputs": [],
   "source": []
  }
 ],
 "metadata": {
  "kernelspec": {
   "display_name": "Python 3",
   "language": "python",
   "name": "python3"
  },
  "language_info": {
   "codemirror_mode": {
    "name": "ipython",
    "version": 3
   },
   "file_extension": ".py",
   "mimetype": "text/x-python",
   "name": "python",
   "nbconvert_exporter": "python",
   "pygments_lexer": "ipython3",
   "version": "3.5.1"
  }
 },
 "nbformat": 4,
 "nbformat_minor": 0
}
